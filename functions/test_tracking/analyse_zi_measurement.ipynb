{
 "cells": [
  {
   "cell_type": "code",
   "execution_count": 30,
   "metadata": {},
   "outputs": [],
   "source": [
    "import numpy as np\n",
    "import pandas as pd\n",
    "import matplotlib.pyplot as plt\n",
    "from matplotlib import gridspec\n",
    "from scipy.signal import argrelmax\n",
    "from os import listdir\n",
    "from os.path import isfile, join\n",
    "%matplotlib inline\n",
    "\n",
    "import json\n",
    "\n",
    "\n",
    "import sys\n",
    "sys.path.append('C:/Users/Experiment/PycharmProjects/PythonLab')\n",
    "\n",
    "import functions.tracking as trk\n",
    "\n",
    "dirpath = 'Z:/Lab/Cantilever/Measurements/150526_Silicon_nitride_with_1um_pads/LookingForResonances'\n",
    "subfolder = 'pictures_zi_scans'\n",
    "tag = 'Si3Ni4'"
   ]
  },
  {
   "cell_type": "markdown",
   "metadata": {},
   "source": [
    "# look at all measurements and export pictures"
   ]
  },
  {
   "cell_type": "code",
   "execution_count": 193,
   "metadata": {},
   "outputs": [],
   "source": [
    "start_time = '2015-06-02_13-08-26'\n",
    "\n",
    "\n",
    "counter = 0\n",
    "\n",
    "for counter in np.arange(21):\n",
    "    # ---------------------------------------------\n",
    "    # adjust the color scale\n",
    "    clim_min, clim_max = -0.03, 0\n",
    "    # ---------------------------------------------\n",
    "\n",
    "\n",
    "    # ========================================================================\n",
    "    # define plotlayout ======================================================\n",
    "    # ========================================================================\n",
    "\n",
    "    fig = plt.figure(figsize = (15,5))\n",
    "\n",
    "    ax_R = plt.subplot2grid((2,5), (0,0), colspan=4)\n",
    "    ax_phase = plt.subplot2grid((2,5), (1,0), colspan=4)\n",
    "    ax_RoI = plt.subplot2grid((2,5), (0, 4), rowspan=4)\n",
    "\n",
    "\n",
    "\n",
    "\n",
    "    # ========================================================================\n",
    "    # plot RoI ===============================================================\n",
    "    # ========================================================================\n",
    "\n",
    "    # load\n",
    "\n",
    "    filename = '{:s}_{:s}'.format(start_time,tag)\n",
    "\n",
    "    roi_image_data = np.loadtxt('{:s}/{:s}_RIO_{:03d}.csv'.format(dirpath, filename, counter), delimiter=',')\n",
    "\n",
    "    with open('{:s}/{:s}_RIO_{:03d}.rio'.format(dirpath, filename, counter), 'r') as infile:\n",
    "         roi = json.load(infile)\n",
    "\n",
    "    with open('{:s}/{:s}_sweep_{:03d}.sweep'.format(dirpath, filename, counter), 'r') as infile:\n",
    "        sweep = json.load(infile)\n",
    "\n",
    "    roi_xVmin, roi_xVmax, roi_xPts, roi_yVmin, roi_yVmax, roi_yPts = trk.rio_to_galvoparameter(roi)\n",
    "\n",
    "    X, Y = np.meshgrid(np.linspace(roi_xVmin, roi_xVmax, roi_xPts),  np.linspace(roi_yVmin, roi_yVmax, roi_yPts))\n",
    "\n",
    "    #  plot close up\n",
    "    # fig_RoI = plt.figure()\n",
    "    # ax_RoI = plt.subplot(1,1,1)\n",
    "    ax_RoI.pcolor(X, Y, roi_image_data)\n",
    "    # plt.colorbar()\n",
    "    # ax_RoI.set_clim(clim_min, clim_max)\n",
    "\n",
    "\n",
    "    ax_RoI.set_xlim([roi_xVmin, roi_xVmax])\n",
    "    ax_RoI.set_ylim([roi_yVmin, roi_yVmax])\n",
    "    ax_RoI.set_xticks([roi_xVmin, roi_xVmax])\n",
    "    ax_RoI.set_yticks([roi_yVmin, roi_yVmax])\n",
    "\n",
    "    ax_RoI.set_aspect(roi_yPts / roi_xPts)\n",
    "    ax_RoI.plot(roi['xo'], roi['yo'], 'kx' , ms = 20, mew = 5)\n",
    "\n",
    "    ax_RoI.yaxis.tick_right()\n",
    "\n",
    "    # ========================================================================\n",
    "    # plot ZI data ===============================================================\n",
    "    # ========================================================================\n",
    "\n",
    "\n",
    "\n",
    "\n",
    "    df = pd.read_csv('{:s}/{:s}_RIO_{:03d}.dat'.format(dirpath, filename, counter))\n",
    "    # df = pd.DataFrame(self.dataFinal, columns = ['Frequency', 'X', 'Y'])\n",
    "    # df.to_csv(filepath, index = False, header=1)\n",
    "    f = df['Frequency'].as_matrix() * 1e-6\n",
    "    r = df['X'].as_matrix()**2 + df['Y'].as_matrix()**2\n",
    "    # convert to W\n",
    "    r /= 50\n",
    "    # convert to dBm\n",
    "    r = 10 * np.log10(r / 1e-3)\n",
    "\n",
    "\n",
    "    phi = np.arctan2(df['Y'].as_matrix(), df['X'].as_matrix()) * 180. / np.pi\n",
    "\n",
    "    # fig = plt.figure(figsize = (15,5))\n",
    "\n",
    "    # gs = gridspec.GridSpec(2, 1)\n",
    "    # ax_R = plt.subplot(gs[0])\n",
    "    # ax_phase = plt.subplot(gs[1], sharex=ax_R)\n",
    "\n",
    "\n",
    "\n",
    "\n",
    "\n",
    "\n",
    "    plt.setp(ax_R.get_xticklabels(), visible=False)\n",
    "\n",
    "    # ax_R.semilogy(f, r)\n",
    "    ax_R.set_ylabel('amp (dBm)')\n",
    "    ax_R.plot(f, r)\n",
    "    # ax_R.set_ylabel('r (arb. units)')\n",
    "    ax_R.set_xlim([sweep['freqStart']*1e-6, sweep['freqEnd']*1e-6])\n",
    "\n",
    "    ax_phase.plot(f, phi )\n",
    "    ax_phase.set_ylim([-180, 180])\n",
    "    ax_phase.set_ylabel('phase (deg)')\n",
    "    ax_phase.set_xlabel('frequency  (Mhz)')\n",
    "    ax_phase.set_xlim([sweep['freqStart']*1e-6, sweep['freqEnd']*1e-6])\n",
    "\n",
    "    # plt.suptitle('interval  {:03d}'.format(counter))\n",
    "    ax_R.set_title('interval  {:03d}'.format(counter))\n",
    "    \n",
    "    # save fig to subfolder\n",
    "    fig.savefig('{:s}/{:s}/{:s}_RIO_{:03d}.png'.format(dirpath, subfolder, filename, counter)) \n",
    "    plt.close(fig)"
   ]
  },
  {
   "cell_type": "markdown",
   "metadata": {},
   "source": [
    "# close up on resonances"
   ]
  },
  {
   "cell_type": "code",
   "execution_count": 180,
   "metadata": {},
   "outputs": [
    {
     "data": {
      "text/plain": [
       "<matplotlib.text.Text at 0x36128908>"
      ]
     },
     "execution_count": 180,
     "output_type": "execute_result",
     "metadata": {}
    },
    {
     "data": {
      "image/png": "[encoded data removed]"
     },
     "output_type": "display_data",
     "metadata": {}
    }
   ],
   "source": [
    "start_time = '2015-06-02_13-08-26'\n",
    "\n",
    "\n",
    "counter = 13\n",
    "f_min = 1.935\n",
    "f_max = 1.936\n",
    "\n",
    "# counter = 9\n",
    "# f_min = 1.887+0.0065\n",
    "# f_max = 1.887+0.0075\n",
    "\n",
    "\n",
    "# ---------------------------------------------\n",
    "# adjust the color scale\n",
    "clim_min, clim_max = -0.03, 0\n",
    "# ---------------------------------------------\n",
    "\n",
    "\n",
    "# ========================================================================\n",
    "# define plotlayout ======================================================\n",
    "# ========================================================================\n",
    "\n",
    "fig = plt.figure(figsize = (15,5))\n",
    "\n",
    "ax_R = plt.subplot2grid((2,5), (0,0), colspan=4)\n",
    "ax_phase = plt.subplot2grid((2,5), (1,0), colspan=4)\n",
    "ax_RoI = plt.subplot2grid((2,5), (0, 4), rowspan=4)\n",
    "\n",
    "\n",
    "\n",
    "\n",
    "# ========================================================================\n",
    "# plot RoI ===============================================================\n",
    "# ========================================================================\n",
    "\n",
    "# load\n",
    "\n",
    "filename = '{:s}_{:s}'.format(start_time,tag)\n",
    "\n",
    "roi_image_data = np.loadtxt('{:s}/{:s}_RIO_{:03d}.csv'.format(dirpath, filename, counter), delimiter=',')\n",
    "\n",
    "with open('{:s}/{:s}_RIO_{:03d}.rio'.format(dirpath, filename, counter), 'r') as infile:\n",
    "     roi = json.load(infile)\n",
    "\n",
    "with open('{:s}/{:s}_sweep_{:03d}.sweep'.format(dirpath, filename, counter), 'r') as infile:\n",
    "    sweep = json.load(infile)\n",
    "\n",
    "roi_xVmin, roi_xVmax, roi_xPts, roi_yVmin, roi_yVmax, roi_yPts = trk.rio_to_galvoparameter(roi)\n",
    "\n",
    "X, Y = np.meshgrid(np.linspace(roi_xVmin, roi_xVmax, roi_xPts),  np.linspace(roi_yVmin, roi_yVmax, roi_yPts))\n",
    "\n",
    "#  plot close up\n",
    "# fig_RoI = plt.figure()\n",
    "# ax_RoI = plt.subplot(1,1,1)\n",
    "ax_RoI.pcolor(X, Y, roi_image_data)\n",
    "# plt.colorbar()\n",
    "# ax_RoI.set_clim(clim_min, clim_max)\n",
    "\n",
    "\n",
    "ax_RoI.set_xlim([roi_xVmin, roi_xVmax])\n",
    "ax_RoI.set_ylim([roi_yVmin, roi_yVmax])\n",
    "ax_RoI.set_xticks([roi_xVmin, roi_xVmax])\n",
    "ax_RoI.set_yticks([roi_yVmin, roi_yVmax])\n",
    "\n",
    "ax_RoI.set_aspect(roi_yPts / roi_xPts)\n",
    "ax_RoI.plot(roi['xo'], roi['yo'], 'kx' , ms = 20, mew = 5)\n",
    "\n",
    "ax_RoI.yaxis.tick_right()\n",
    "\n",
    "# ========================================================================\n",
    "# plot ZI data ===============================================================\n",
    "# ========================================================================\n",
    "\n",
    "\n",
    "\n",
    "\n",
    "df = pd.read_csv('{:s}/{:s}_RIO_{:03d}.dat'.format(dirpath, filename, counter))\n",
    "# df = pd.DataFrame(self.dataFinal, columns = ['Frequency', 'X', 'Y'])\n",
    "# df.to_csv(filepath, index = False, header=1)\n",
    "f = df['Frequency'].as_matrix() * 1e-6\n",
    "r = df['X'].as_matrix()**2 + df['Y'].as_matrix()**2\n",
    "# convert to W\n",
    "r /= 50\n",
    "# convert to dBm\n",
    "r = 10 * np.log10(r / 1e-3)\n",
    "\n",
    "\n",
    "phi = np.arctan2(df['Y'].as_matrix(), df['X'].as_matrix()) * 180. / np.pi\n",
    "\n",
    "# fig = plt.figure(figsize = (15,5))\n",
    "\n",
    "# gs = gridspec.GridSpec(2, 1)\n",
    "# ax_R = plt.subplot(gs[0])\n",
    "# ax_phase = plt.subplot(gs[1], sharex=ax_R)\n",
    "\n",
    "\n",
    "\n",
    "\n",
    "\n",
    "plt.setp(ax_R.get_xticklabels(), visible=False)\n",
    "\n",
    "# ax_R.semilogy(f, r)\n",
    "ax_R.set_ylabel('amp (dBm)')\n",
    "ax_R.plot(f, r, 'x-')\n",
    "# ax_R.set_ylabel('r (arb. units)')\n",
    "ax_R.set_xlim([f_min, f_max])\n",
    "# ax_R.set_xlim([sweep['freqStart']*1e-6, sweep['freqEnd']*1e-6])\n",
    "\n",
    "\n",
    "ax_phase.plot(f, phi, 'x-' )\n",
    "# ax_phase.set_ylim([-180, 180])\n",
    "ax_phase.set_ylim([100, 180])\n",
    "ax_phase.set_ylabel('phase (deg)')\n",
    "ax_phase.set_xlabel('frequency  (Mhz)')\n",
    "# ax_phase.set_xlim([sweep['freqStart']*1e-6, sweep['freqEnd']*1e-6])\n",
    "ax_phase.set_xlim([f_min, f_max])\n",
    "\n",
    "# plt.suptitle('interval  {:03d}'.format(counter))\n",
    "ax_R.set_title('interval  {:03d}'.format(counter))\n",
    "\n",
    "# save fig to subfolder\n",
    "# fig.savefig('{:s}/{:s}/{:s}_RIO_{:03d}.png'.format(dirpath, subfolder, filename, counter)) \n",
    "# plt.close(fig)"
   ]
  },
  {
   "cell_type": "code",
   "execution_count": 181,
   "metadata": {},
   "outputs": [
    {
     "data": {
      "text/plain": [
       "(1.935, 1.936)"
      ]
     },
     "execution_count": 181,
     "output_type": "execute_result",
     "metadata": {}
    }
   ],
   "source": [
    "f_min, f_max"
   ]
  },
  {
   "cell_type": "code",
   "execution_count": 182,
   "metadata": {},
   "outputs": [
    {
     "data": {
      "text/plain": [
       "4.999999999999449"
      ]
     },
     "execution_count": 182,
     "output_type": "execute_result",
     "metadata": {}
    }
   ],
   "source": [
    "(f_max - f_min)/200*1e6"
   ]
  },
  {
   "cell_type": "code",
   "execution_count": 183,
   "metadata": {},
   "outputs": [
    {
     "ename": "SyntaxError",
     "evalue": "invalid syntax (<ipython-input-183-e8742e9fd19c>, line 2)",
     "output_type": "error",
     "traceback": [
      "\u001b[1;36m  File \u001b[1;32m\"<ipython-input-183-e8742e9fd19c>\"\u001b[1;36m, line \u001b[1;32m2\u001b[0m\n\u001b[1;33m    if amplitude == 0, 'a', 'b'\u001b[0m\n\u001b[1;37m                     ^\u001b[0m\n\u001b[1;31mSyntaxError\u001b[0m\u001b[1;31m:\u001b[0m invalid syntax\n"
     ]
    }
   ],
   "source": [
    "if amplitude == 0, 'a', 'b'"
   ]
  },
  {
   "cell_type": "code",
   "metadata": {},
   "outputs": [],
   "source": [
    "2*2.5 * 3. *4 * 12 / 60"
   ]
  },
  {
   "cell_type": "code",
   "metadata": {},
   "outputs": [],
   "source": [
    ""
   ]
  }
 ],
 "metadata": {
  "kernelspec": {
   "display_name": "Python 2",
   "language": "python",
   "name": "python2"
  },
  "language_info": {
   "codemirror_mode": {
    "name": "ipython",
    "version": 2.0
   },
   "file_extension": ".py",
   "mimetype": "text/x-python",
   "name": "python",
   "nbconvert_exporter": "python",
   "pygments_lexer": "ipython2",
   "version": "2.7.8"
  }
 },
 "nbformat": 4,
 "nbformat_minor": 0
}