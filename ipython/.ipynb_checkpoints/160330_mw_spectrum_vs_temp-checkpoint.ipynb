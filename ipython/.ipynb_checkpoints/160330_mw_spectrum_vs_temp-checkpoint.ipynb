{
 "cells": [
  {
   "cell_type": "code",
   "execution_count": 14,
   "metadata": {
    "collapsed": false
   },
   "outputs": [],
   "source": [
    "import sys\n",
    "import os\n",
    "sys.path.insert(0, os.path.abspath('..'))\n",
    "from src.instruments.spectrum_analyzer import SpectrumAnalyzer\n",
    "import time\n",
    "import json\n"
   ]
  },
  {
   "cell_type": "code",
   "execution_count": 12,
   "metadata": {
    "collapsed": false
   },
   "outputs": [
    {
     "ename": "AttributeError",
     "evalue": "PLEASE SET IT!",
     "output_type": "error",
     "traceback": [
      "\u001b[0;31m---------------------------------------------------------------------------\u001b[0m",
      "\u001b[0;31mAttributeError\u001b[0m                            Traceback (most recent call last)",
      "\u001b[0;32m<ipython-input-12-602c22788ce8>\u001b[0m in \u001b[0;36m<module>\u001b[0;34m()\u001b[0m\n\u001b[1;32m      3\u001b[0m \u001b[0;32mif\u001b[0m \u001b[0;32mnot\u001b[0m \u001b[0mPATH_TO_SAVE\u001b[0m\u001b[0;34m:\u001b[0m\u001b[0;34m\u001b[0m\u001b[0m\n\u001b[1;32m      4\u001b[0m     \u001b[0mmessage\u001b[0m \u001b[0;34m=\u001b[0m \u001b[0;34m'PLEASE SET IT!'\u001b[0m\u001b[0;34m\u001b[0m\u001b[0m\n\u001b[0;32m----> 5\u001b[0;31m     \u001b[0;32mraise\u001b[0m \u001b[0mAttributeError\u001b[0m\u001b[0;34m(\u001b[0m\u001b[0mmessage\u001b[0m\u001b[0;34m)\u001b[0m\u001b[0;34m\u001b[0m\u001b[0m\n\u001b[0m",
      "\u001b[0;31mAttributeError\u001b[0m: PLEASE SET IT!"
     ]
    }
   ],
   "source": [
    "# input what path to save the data!\n",
    "ABSOLUTE_PATH_TO_SAVE = ''\n",
    "if not PATH_TO_SAVE:\n",
    "    message = 'PLEASE SET IT!'\n",
    "    raise AttributeError(message)"
   ]
  },
  {
   "cell_type": "code",
   "execution_count": null,
   "metadata": {
    "collapsed": true
   },
   "outputs": [],
   "source": [
    "# Setting up the Spectrum Analyzer\n",
    "spec_anal = SpectrumAnalyzer()\n",
    "spec_anal.mode = 'TrackingGenerator'\n",
    "spec_anal.ouput_on = True\n",
    "spec_anal.ouput_power = 0.0  #dBm\n",
    "spec_anal.start_frequency = 1e6  # arbitrary, can't set to 0 because of spectrum analyzer limitations\n",
    "spec_anal.end_frequency = 3e9"
   ]
  },
  {
   "cell_type": "code",
   "execution_count": null,
   "metadata": {
    "collapsed": true
   },
   "outputs": [],
   "source": [
    "while(True):\n",
    "    data = {'time': [], 'stage_temp': [], 'platform_temp': [], 'trace': []}\n",
    "    data['time'].append(time.ctime())\n",
    "    data['stage_temp'].append() # ADD STUFF HERE\n",
    "    data['platform_temp'].append() # ADD STUFF HERE\n",
    "    data['trace'].append(spec_anal.trace)\n",
    "    with open(ABSOLUTE_PATH_TO_SAVE + 'data.json', 'w') as fp:\n",
    "        json.dump(data, fp)\n",
    "    time.sleep(59)  #since the spectrum analyzer takes a full second =)\n",
    "    \n",
    "    "
   ]
  }
 ],
 "metadata": {
  "kernelspec": {
   "display_name": "Python 2",
   "language": "python",
   "name": "python2"
  },
  "language_info": {
   "codemirror_mode": {
    "name": "ipython",
    "version": 2
   },
   "file_extension": ".py",
   "mimetype": "text/x-python",
   "name": "python",
   "nbconvert_exporter": "python",
   "pygments_lexer": "ipython2",
   "version": "2.7.10"
  }
 },
 "nbformat": 4,
 "nbformat_minor": 0
}
