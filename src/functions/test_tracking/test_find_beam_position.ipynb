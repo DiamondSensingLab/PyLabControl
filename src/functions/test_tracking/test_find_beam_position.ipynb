{
 "cells": [
  {
   "cell_type": "markdown",
   "metadata": {},
   "source": [
    "# test script to check if tracking works"
   ]
  },
  {
   "cell_type": "code",
   "metadata": {},
   "outputs": [],
   "source": [
    "1+1"
   ]
  },
  {
   "cell_type": "code",
   "metadata": {},
   "outputs": [],
   "source": [
    "import numpy as np\n",
    "import matplotlib.pyplot as plt\n",
    "from matplotlib import gridspec\n",
    "from scipy.signal import argrelmax\n",
    "from os import listdir\n",
    "from os.path import isfile, join\n",
    "%matplotlib inline\n",
    "\n",
    "# add additional path to import scripts used in gui\n",
    "import sys\n",
    "sys.path.append('C:/Users/Experiment/PycharmProjects/PythonLab')\n",
    "\n",
    "import json\n",
    "\n",
    "from time import localtime, strftime\n",
    "# file = './2015-05-21_20-32-29-5.8e-4Torr_NoPinhole_R100k.csv'\n",
    "# folder = './'\n",
    "import functions.tracking as trk\n",
    "\n",
    "dirpath = 'Z:/Lab/Cantilever/Measurements/150526_Silicon_nitride_with_1um_pads/TrackFocus_test'\n",
    "# dirpath = './testdata/'\n",
    "tag = 'Si3Ni4'"
   ]
  },
  {
   "cell_type": "code",
   "execution_count": 2,
   "metadata": {},
   "outputs": [],
   "source": [
    "# define functions\n",
    "\n",
    "# Define conversion functions between original and dual axes\n",
    "# def pts_to_V_conv(x, Vmin, Vmax, pts):\n",
    "#     '''\n",
    "#     conversion between V and points\n",
    "#     '''\n",
    "#     return x / pts * (Vmax-Vmin) + Vmin"
   ]
  },
  {
   "cell_type": "code",
   "execution_count": 5,
   "metadata": {},
   "outputs": [
    {
     "name": "stdout",
     "output_type": "stream",
     "text": [
      "real shift x: 0.020\n",
      "real shift y: 0.030\n",
      "found shift x: 0.019\n",
      "found shift y: 0.029\n"
     ]
    },
    {
     "data": {
      "text/plain": [
       "<matplotlib.patches.FancyArrow at 0x1905e9b0>"
      ]
     },
     "execution_count": 5,
     "output_type": "execute_result",
     "metadata": {}
    },
    {
     "data": {
      "image/png": "[encoded data removed]"
     },
     "output_type": "display_data",
     "metadata": {}
    },
    {
     "data": {
      "image/png": "[encoded data removed]"
     },
     "output_type": "display_data",
     "metadata": {}
    }
   ],
   "source": [
    "# ===============================================================\n",
    "# make test data\n",
    "# ===============================================================\n",
    "\n",
    "rio = {\n",
    "        \"xo\": -0.00, 'yo': 0.1,\n",
    "        \"dx\": 0.1, 'dy': 0.1,\n",
    "        'xPts': 100, 'yPts': 100\n",
    "    }\n",
    "\n",
    "xVmin, xVmax, xPts, yVmin, yVmax, yPts = trk.roi_to_galvoparameter(rio)\n",
    "\n",
    "X, Y = np.meshgrid(np.linspace(xVmin, xVmax, xPts), np.linspace(yVmin, yVmax, yPts))\n",
    "\n",
    "point_a = {\n",
    "        \"xo\": -0.005, 'yo': 0.1,\n",
    "        \"sx\": 0.01, 'sy': 0.01\n",
    "    }\n",
    "\n",
    "point_b = point_a.copy()\n",
    "\n",
    "point_b['xo'] += 0.02 \n",
    "point_b['yo'] += 0.03 \n",
    "\n",
    "img_a = np.exp(-(X-point_a['xo'])**2. / point_a['sx']**2) * np.exp(-(Y-point_a['yo'])**2. / point_a['sy']**2)\n",
    "img_b = np.exp(-(X-point_b['xo'])**2. / point_b['sx']**2) * np.exp(-(Y-point_b['yo'])**2. / point_b['sy']**2)\n",
    "\n",
    "# ===============================================================\n",
    "# run script\n",
    "# ===============================================================\n",
    "rio_new = trk.find_beam_position(img_a, img_b, rio)\n",
    "\n",
    "print 'real shift x: {:0.03f}'.format(point_b['xo'] - point_a['xo'])\n",
    "print 'real shift y: {:0.03f}'.format(point_b['yo'] - point_a['yo'])\n",
    "\n",
    "print 'found shift x: {:0.03f}'.format(rio['xo'] - rio_new['xo'])\n",
    "print 'found shift y: {:0.03f}'.format(rio['yo'] - rio_new['yo'])\n",
    "\n",
    "# ===============================================================\n",
    "# plot\n",
    "# ===============================================================\n",
    "plt.pcolor(X, Y, img_a)\n",
    "plt.colorbar()\n",
    "plt.plot(point_a['xo'], point_a['yo'], 'x' , ms = 20)\n",
    "\n",
    "plt.figure()\n",
    "plt.pcolor(X, Y, img_b)\n",
    "plt.colorbar()\n",
    "plt.plot(point_a['xo'], point_a['yo'], 'x' , ms = 20)\n",
    "plt.axes().arrow(point_a['xo'], point_a['yo'], rio['xo'] - rio_new['xo'],rio['yo'] - rio_new['yo'], head_width=0.01, head_length=0.01, fc='k', ec='k', length_includes_head=True)\n",
    "\n",
    "# plt.figure()\n",
    "# plt.pcolor(X, Y, img_b-img_a)\n",
    "# plt.colorbar()\n",
    "\n",
    "# plt.figure()\n",
    "# cor = signal.correlate2d (img_a, img_b, mode='same')\n",
    "# plt.pcolor(X, Y,  cor)\n",
    "# plt.colorbar()\n",
    "# plt.plot(point_a['xo'], point_a['yo'], 'x' , ms = 20)\n",
    "\n",
    "# plt.figure()\n",
    "# cor = signal.correlate2d (img_a, img_a, mode='same')\n",
    "# plt.pcolor(X, Y,  cor)\n",
    "# plt.colorbar()\n",
    "# plt.plot(point_a['xo'], point_a['yo'], 'x' , ms = 20)"
   ]
  },
  {
   "cell_type": "code",
   "execution_count": 4,
   "metadata": {},
   "outputs": [
    {
     "name": "stdout",
     "output_type": "stream",
     "text": [
      "{'xPts': 30, 'xo': -0.0, 'yo': 0.1, 'dx': 0.1, 'dy': 0.1, 'yPts': 30}\n",
      "{'xPts': 30, 'xo': 0.020000000000000004, 'yo': 0.13, 'dy': 0.1, 'yPts': 30, 'dx': 0.1}\n"
     ]
    }
   ],
   "source": [
    "print rio\n",
    "print rio_new"
   ]
  }
 ],
 "metadata": {
  "kernelspec": {
   "display_name": "Python 2",
   "language": "python",
   "name": "python2"
  },
  "language_info": {
   "codemirror_mode": {
    "name": "ipython",
    "version": 2.0
   },
   "file_extension": ".py",
   "mimetype": "text/x-python",
   "name": "python",
   "nbconvert_exporter": "python",
   "pygments_lexer": "ipython2",
   "version": "2.7.8"
  }
 },
 "nbformat": 4,
 "nbformat_minor": 0
}